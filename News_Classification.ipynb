{
 "cells": [
  {
   "cell_type": "markdown",
   "metadata": {
    "collapsed": true,
    "pycharm": {
     "name": "#%% md\n"
    }
   },
   "source": [
    "<h3>Importing Libraries</h3>"
   ]
  },
  {
   "cell_type": "code",
   "source": [
    "import re\n",
    "import json\n",
    "import string\n",
    "import nltk\n",
    "import numpy as np\n",
    "import pandas as pd\n",
    "import seaborn as sns\n",
    "from wordcloud import WordCloud\n",
    "from collections import Counter\n",
    "import matplotlib.pyplot as plt\n",
    "from sklearn.feature_extraction.text import TfidfVectorizer\n",
    "from sklearn.model_selection import train_test_split\n",
    "from sklearn.feature_extraction.text import  CountVectorizer\n",
    "from sklearn.naive_bayes import MultinomialNB\n",
    "from sklearn.linear_model import SGDClassifier\n",
    "from sklearn.linear_model import LogisticRegression\n",
    "from sklearn.svm import LinearSVC\n",
    "from sklearn.metrics import confusion_matrix, classification_report, accuracy_score"
   ],
   "metadata": {
    "collapsed": false,
    "pycharm": {
     "name": "#%%\n"
    }
   },
   "execution_count": 1,
   "outputs": []
  },
  {
   "cell_type": "markdown",
   "source": [
    "<h3>Loading data into dataframe</h3>"
   ],
   "metadata": {
    "collapsed": false
   }
  },
  {
   "cell_type": "code",
   "execution_count": 2,
   "outputs": [
    {
     "data": {
      "text/plain": "        category                                           headline  \\\n0          CRIME  There Were 2 Mass Shootings In Texas Last Week...   \n1  ENTERTAINMENT  Will Smith Joins Diplo And Nicky Jam For The 2...   \n2  ENTERTAINMENT    Hugh Grant Marries For The First Time At Age 57   \n3  ENTERTAINMENT  Jim Carrey Blasts 'Castrato' Adam Schiff And D...   \n4  ENTERTAINMENT  Julianna Margulies Uses Donald Trump Poop Bags...   \n\n           authors                                               link  \\\n0  Melissa Jeltsen  https://www.huffingtonpost.com/entry/texas-ama...   \n1    Andy McDonald  https://www.huffingtonpost.com/entry/will-smit...   \n2       Ron Dicker  https://www.huffingtonpost.com/entry/hugh-gran...   \n3       Ron Dicker  https://www.huffingtonpost.com/entry/jim-carre...   \n4       Ron Dicker  https://www.huffingtonpost.com/entry/julianna-...   \n\n                                   short_description        date  \n0  She left her husband. He killed their children...  2018-05-26  \n1                           Of course it has a song.  2018-05-26  \n2  The actor and his longtime girlfriend Anna Ebe...  2018-05-26  \n3  The actor gives Dems an ass-kicking for not fi...  2018-05-26  \n4  The \"Dietland\" actress said using the bags is ...  2018-05-26  ",
      "text/html": "<div>\n<style scoped>\n    .dataframe tbody tr th:only-of-type {\n        vertical-align: middle;\n    }\n\n    .dataframe tbody tr th {\n        vertical-align: top;\n    }\n\n    .dataframe thead th {\n        text-align: right;\n    }\n</style>\n<table border=\"1\" class=\"dataframe\">\n  <thead>\n    <tr style=\"text-align: right;\">\n      <th></th>\n      <th>category</th>\n      <th>headline</th>\n      <th>authors</th>\n      <th>link</th>\n      <th>short_description</th>\n      <th>date</th>\n    </tr>\n  </thead>\n  <tbody>\n    <tr>\n      <th>0</th>\n      <td>CRIME</td>\n      <td>There Were 2 Mass Shootings In Texas Last Week...</td>\n      <td>Melissa Jeltsen</td>\n      <td>https://www.huffingtonpost.com/entry/texas-ama...</td>\n      <td>She left her husband. He killed their children...</td>\n      <td>2018-05-26</td>\n    </tr>\n    <tr>\n      <th>1</th>\n      <td>ENTERTAINMENT</td>\n      <td>Will Smith Joins Diplo And Nicky Jam For The 2...</td>\n      <td>Andy McDonald</td>\n      <td>https://www.huffingtonpost.com/entry/will-smit...</td>\n      <td>Of course it has a song.</td>\n      <td>2018-05-26</td>\n    </tr>\n    <tr>\n      <th>2</th>\n      <td>ENTERTAINMENT</td>\n      <td>Hugh Grant Marries For The First Time At Age 57</td>\n      <td>Ron Dicker</td>\n      <td>https://www.huffingtonpost.com/entry/hugh-gran...</td>\n      <td>The actor and his longtime girlfriend Anna Ebe...</td>\n      <td>2018-05-26</td>\n    </tr>\n    <tr>\n      <th>3</th>\n      <td>ENTERTAINMENT</td>\n      <td>Jim Carrey Blasts 'Castrato' Adam Schiff And D...</td>\n      <td>Ron Dicker</td>\n      <td>https://www.huffingtonpost.com/entry/jim-carre...</td>\n      <td>The actor gives Dems an ass-kicking for not fi...</td>\n      <td>2018-05-26</td>\n    </tr>\n    <tr>\n      <th>4</th>\n      <td>ENTERTAINMENT</td>\n      <td>Julianna Margulies Uses Donald Trump Poop Bags...</td>\n      <td>Ron Dicker</td>\n      <td>https://www.huffingtonpost.com/entry/julianna-...</td>\n      <td>The \"Dietland\" actress said using the bags is ...</td>\n      <td>2018-05-26</td>\n    </tr>\n  </tbody>\n</table>\n</div>"
     },
     "execution_count": 2,
     "metadata": {},
     "output_type": "execute_result"
    }
   ],
   "source": [
    "path = 'Data/News_Category_Dataset.csv'\n",
    "data = pd.read_csv(path)\n",
    "data.head()"
   ],
   "metadata": {
    "collapsed": false,
    "pycharm": {
     "name": "#%%\n"
    }
   }
  },
  {
   "cell_type": "code",
   "source": [
    "data.info()"
   ],
   "metadata": {
    "collapsed": false,
    "pycharm": {
     "name": "#%%\n"
    }
   },
   "execution_count": 3,
   "outputs": [
    {
     "name": "stdout",
     "output_type": "stream",
     "text": [
      "<class 'pandas.core.frame.DataFrame'>\n",
      "RangeIndex: 200853 entries, 0 to 200852\n",
      "Data columns (total 6 columns):\n",
      " #   Column             Non-Null Count   Dtype \n",
      "---  ------             --------------   ----- \n",
      " 0   category           200853 non-null  object\n",
      " 1   headline           200847 non-null  object\n",
      " 2   authors            164233 non-null  object\n",
      " 3   link               200853 non-null  object\n",
      " 4   short_description  181141 non-null  object\n",
      " 5   date               200853 non-null  object\n",
      "dtypes: object(6)\n",
      "memory usage: 9.2+ MB\n"
     ]
    }
   ]
  },
  {
   "cell_type": "code",
   "execution_count": 4,
   "outputs": [
    {
     "data": {
      "text/plain": "category                 0\nheadline                 6\nauthors              36620\nlink                     0\nshort_description    19712\ndate                     0\ndtype: int64"
     },
     "execution_count": 4,
     "metadata": {},
     "output_type": "execute_result"
    }
   ],
   "source": [
    "data.isnull().sum()"
   ],
   "metadata": {
    "collapsed": false,
    "pycharm": {
     "name": "#%%\n"
    }
   }
  },
  {
   "cell_type": "markdown",
   "source": [
    "<h3>EDA & Visualization</h3>"
   ],
   "metadata": {
    "collapsed": false
   }
  },
  {
   "cell_type": "code",
   "execution_count": 6,
   "outputs": [
    {
     "data": {
      "text/plain": "(array([ 0,  1,  2,  3,  4,  5,  6,  7,  8,  9, 10, 11, 12, 13, 14, 15, 16,\n        17, 18, 19, 20, 21, 22, 23, 24, 25, 26, 27, 28, 29, 30, 31, 32, 33,\n        34, 35, 36, 37, 38, 39, 40]),\n [Text(0, 0, 'POLITICS'),\n  Text(1, 0, 'WELLNESS'),\n  Text(2, 0, 'ENTERTAINMENT'),\n  Text(3, 0, 'TRAVEL'),\n  Text(4, 0, 'STYLE & BEAUTY'),\n  Text(5, 0, 'PARENTING'),\n  Text(6, 0, 'HEALTHY LIVING'),\n  Text(7, 0, 'QUEER VOICES'),\n  Text(8, 0, 'FOOD & DRINK'),\n  Text(9, 0, 'BUSINESS'),\n  Text(10, 0, 'COMEDY'),\n  Text(11, 0, 'SPORTS'),\n  Text(12, 0, 'BLACK VOICES'),\n  Text(13, 0, 'HOME & LIVING'),\n  Text(14, 0, 'PARENTS'),\n  Text(15, 0, 'THE WORLDPOST'),\n  Text(16, 0, 'WEDDINGS'),\n  Text(17, 0, 'WOMEN'),\n  Text(18, 0, 'IMPACT'),\n  Text(19, 0, 'DIVORCE'),\n  Text(20, 0, 'CRIME'),\n  Text(21, 0, 'MEDIA'),\n  Text(22, 0, 'WEIRD NEWS'),\n  Text(23, 0, 'GREEN'),\n  Text(24, 0, 'WORLDPOST'),\n  Text(25, 0, 'RELIGION'),\n  Text(26, 0, 'STYLE'),\n  Text(27, 0, 'SCIENCE'),\n  Text(28, 0, 'WORLD NEWS'),\n  Text(29, 0, 'TASTE'),\n  Text(30, 0, 'TECH'),\n  Text(31, 0, 'MONEY'),\n  Text(32, 0, 'ARTS'),\n  Text(33, 0, 'FIFTY'),\n  Text(34, 0, 'GOOD NEWS'),\n  Text(35, 0, 'ARTS & CULTURE'),\n  Text(36, 0, 'ENVIRONMENT'),\n  Text(37, 0, 'COLLEGE'),\n  Text(38, 0, 'LATINO VOICES'),\n  Text(39, 0, 'CULTURE & ARTS'),\n  Text(40, 0, 'EDUCATION')])"
     },
     "execution_count": 6,
     "metadata": {},
     "output_type": "execute_result"
    },
    {
     "data": {
      "text/plain": "<Figure size 1008x576 with 1 Axes>",
      "image/png": "[encoded data removed]"
     },
     "metadata": {
      "needs_background": "light"
     },
     "output_type": "display_data"
    }
   ],
   "source": [
    "plt.figure(figsize=(14,8))\n",
    "count = data.category.value_counts()\n",
    "sns.barplot(x=count.index, y=count)\n",
    "plt.xlabel('Category')\n",
    "plt.ylabel('Count')\n",
    "plt.xticks(rotation=90)"
   ],
   "metadata": {
    "collapsed": false,
    "pycharm": {
     "name": "#%%\n"
    }
   }
  },
  {
   "cell_type": "markdown",
   "source": [
    "<h3>Creating new dataframe as we will work with only headline, category and short_description</h3>"
   ],
   "metadata": {
    "collapsed": false,
    "pycharm": {
     "name": "#%% md\n"
    }
   }
  },
  {
   "cell_type": "code",
   "execution_count": 7,
   "outputs": [
    {
     "data": {
      "text/plain": "        category                                           headline  \\\n0          CRIME  There Were 2 Mass Shootings In Texas Last Week...   \n1  ENTERTAINMENT  Will Smith Joins Diplo And Nicky Jam For The 2...   \n2  ENTERTAINMENT    Hugh Grant Marries For The First Time At Age 57   \n3  ENTERTAINMENT  Jim Carrey Blasts 'Castrato' Adam Schiff And D...   \n4  ENTERTAINMENT  Julianna Margulies Uses Donald Trump Poop Bags...   \n\n                                   short_description  \n0  She left her husband. He killed their children...  \n1                           Of course it has a song.  \n2  The actor and his longtime girlfriend Anna Ebe...  \n3  The actor gives Dems an ass-kicking for not fi...  \n4  The \"Dietland\" actress said using the bags is ...  ",
      "text/html": "<div>\n<style scoped>\n    .dataframe tbody tr th:only-of-type {\n        vertical-align: middle;\n    }\n\n    .dataframe tbody tr th {\n        vertical-align: top;\n    }\n\n    .dataframe thead th {\n        text-align: right;\n    }\n</style>\n<table border=\"1\" class=\"dataframe\">\n  <thead>\n    <tr style=\"text-align: right;\">\n      <th></th>\n      <th>category</th>\n      <th>headline</th>\n      <th>short_description</th>\n    </tr>\n  </thead>\n  <tbody>\n    <tr>\n      <th>0</th>\n      <td>CRIME</td>\n      <td>There Were 2 Mass Shootings In Texas Last Week...</td>\n      <td>She left her husband. He killed their children...</td>\n    </tr>\n    <tr>\n      <th>1</th>\n      <td>ENTERTAINMENT</td>\n      <td>Will Smith Joins Diplo And Nicky Jam For The 2...</td>\n      <td>Of course it has a song.</td>\n    </tr>\n    <tr>\n      <th>2</th>\n      <td>ENTERTAINMENT</td>\n      <td>Hugh Grant Marries For The First Time At Age 57</td>\n      <td>The actor and his longtime girlfriend Anna Ebe...</td>\n    </tr>\n    <tr>\n      <th>3</th>\n      <td>ENTERTAINMENT</td>\n      <td>Jim Carrey Blasts 'Castrato' Adam Schiff And D...</td>\n      <td>The actor gives Dems an ass-kicking for not fi...</td>\n    </tr>\n    <tr>\n      <th>4</th>\n      <td>ENTERTAINMENT</td>\n      <td>Julianna Margulies Uses Donald Trump Poop Bags...</td>\n      <td>The \"Dietland\" actress said using the bags is ...</td>\n    </tr>\n  </tbody>\n</table>\n</div>"
     },
     "execution_count": 7,
     "metadata": {},
     "output_type": "execute_result"
    }
   ],
   "source": [
    "df = data[['category', 'headline', 'short_description']]\n",
    "df.head()"
   ],
   "metadata": {
    "collapsed": false,
    "pycharm": {
     "name": "#%%\n"
    }
   }
  },
  {
   "cell_type": "code",
   "execution_count": 8,
   "outputs": [
    {
     "data": {
      "text/plain": "category                 0\nheadline                 6\nshort_description    19712\ndtype: int64"
     },
     "execution_count": 8,
     "metadata": {},
     "output_type": "execute_result"
    }
   ],
   "source": [
    "df.isnull().sum()"
   ],
   "metadata": {
    "collapsed": false,
    "pycharm": {
     "name": "#%%\n"
    }
   }
  },
  {
   "cell_type": "markdown",
   "source": [
    "<h3>Removing empty rows and preparing dataset</h3>"
   ],
   "metadata": {
    "collapsed": false
   }
  },
  {
   "cell_type": "code",
   "execution_count": 9,
   "outputs": [],
   "source": [
    "df = df[~df['headline'].isnull()]"
   ],
   "metadata": {
    "collapsed": false,
    "pycharm": {
     "name": "#%%\n"
    }
   }
  },
  {
   "cell_type": "code",
   "execution_count": 10,
   "outputs": [
    {
     "data": {
      "text/plain": "category                 0\nheadline                 0\nshort_description    19707\ndtype: int64"
     },
     "execution_count": 10,
     "metadata": {},
     "output_type": "execute_result"
    }
   ],
   "source": [
    "df.isnull().sum()"
   ],
   "metadata": {
    "collapsed": false,
    "pycharm": {
     "name": "#%%\n"
    }
   }
  },
  {
   "cell_type": "code",
   "execution_count": 11,
   "outputs": [
    {
     "data": {
      "text/plain": "        category                                           headline  \\\n0          CRIME  There Were 2 Mass Shootings In Texas Last Week...   \n1  ENTERTAINMENT  Will Smith Joins Diplo And Nicky Jam For The 2...   \n2  ENTERTAINMENT    Hugh Grant Marries For The First Time At Age 57   \n3  ENTERTAINMENT  Jim Carrey Blasts 'Castrato' Adam Schiff And D...   \n4  ENTERTAINMENT  Julianna Margulies Uses Donald Trump Poop Bags...   \n\n                                   short_description  \\\n0  She left her husband. He killed their children...   \n1                           Of course it has a song.   \n2  The actor and his longtime girlfriend Anna Ebe...   \n3  The actor gives Dems an ass-kicking for not fi...   \n4  The \"Dietland\" actress said using the bags is ...   \n\n                                                text  \n0  There Were 2 Mass Shootings In Texas Last Week...  \n1  Will Smith Joins Diplo And Nicky Jam For The 2...  \n2  Hugh Grant Marries For The First Time At Age 5...  \n3  Jim Carrey Blasts 'Castrato' Adam Schiff And D...  \n4  Julianna Margulies Uses Donald Trump Poop Bags...  ",
      "text/html": "<div>\n<style scoped>\n    .dataframe tbody tr th:only-of-type {\n        vertical-align: middle;\n    }\n\n    .dataframe tbody tr th {\n        vertical-align: top;\n    }\n\n    .dataframe thead th {\n        text-align: right;\n    }\n</style>\n<table border=\"1\" class=\"dataframe\">\n  <thead>\n    <tr style=\"text-align: right;\">\n      <th></th>\n      <th>category</th>\n      <th>headline</th>\n      <th>short_description</th>\n      <th>text</th>\n    </tr>\n  </thead>\n  <tbody>\n    <tr>\n      <th>0</th>\n      <td>CRIME</td>\n      <td>There Were 2 Mass Shootings In Texas Last Week...</td>\n      <td>She left her husband. He killed their children...</td>\n      <td>There Were 2 Mass Shootings In Texas Last Week...</td>\n    </tr>\n    <tr>\n      <th>1</th>\n      <td>ENTERTAINMENT</td>\n      <td>Will Smith Joins Diplo And Nicky Jam For The 2...</td>\n      <td>Of course it has a song.</td>\n      <td>Will Smith Joins Diplo And Nicky Jam For The 2...</td>\n    </tr>\n    <tr>\n      <th>2</th>\n      <td>ENTERTAINMENT</td>\n      <td>Hugh Grant Marries For The First Time At Age 57</td>\n      <td>The actor and his longtime girlfriend Anna Ebe...</td>\n      <td>Hugh Grant Marries For The First Time At Age 5...</td>\n    </tr>\n    <tr>\n      <th>3</th>\n      <td>ENTERTAINMENT</td>\n      <td>Jim Carrey Blasts 'Castrato' Adam Schiff And D...</td>\n      <td>The actor gives Dems an ass-kicking for not fi...</td>\n      <td>Jim Carrey Blasts 'Castrato' Adam Schiff And D...</td>\n    </tr>\n    <tr>\n      <th>4</th>\n      <td>ENTERTAINMENT</td>\n      <td>Julianna Margulies Uses Donald Trump Poop Bags...</td>\n      <td>The \"Dietland\" actress said using the bags is ...</td>\n      <td>Julianna Margulies Uses Donald Trump Poop Bags...</td>\n    </tr>\n  </tbody>\n</table>\n</div>"
     },
     "execution_count": 11,
     "metadata": {},
     "output_type": "execute_result"
    }
   ],
   "source": [
    "df['text'] = df['headline'] + ' ' + df['short_description']\n",
    "df.head()"
   ],
   "metadata": {
    "collapsed": false,
    "pycharm": {
     "name": "#%%\n"
    }
   }
  },
  {
   "cell_type": "markdown",
   "source": [
    "<h3>Cleaning texts</h3>"
   ],
   "metadata": {
    "collapsed": false
   }
  },
  {
   "cell_type": "code",
   "source": [
    "def cleanText(text):\n",
    "    text = str(text)\n",
    "    text = text.lower()                                  # lower-case all characters\n",
    "    text =  re.sub(r'@\\S+', '',text)                     # remove twitter handles\n",
    "    text =  re.sub(r'http\\S+', '',text)                  # remove urls\n",
    "    text =  re.sub(r'pic.\\S+', '',text)\n",
    "    text =  re.sub(r\"[^a-zA-Z+']\", ' ',text)             # only keeps characters\n",
    "    text = re.sub(r'\\s+[a-zA-Z]\\s+', ' ', text+' ')      # keep words with length>1 only\n",
    "    text = \"\".join([i for i in text if i not in string.punctuation])\n",
    "    words = nltk.tokenize.word_tokenize(text)\n",
    "    stopwords = nltk.corpus.stopwords.words('english')   # remove stopwords\n",
    "    text = \" \".join([i for i in words if i not in stopwords and len(i)>2])\n",
    "    text= re.sub(\"\\s[\\s]+\", \" \",text).strip()            # remove repeated/leading/trailing spaces\n",
    "    return text"
   ],
   "metadata": {
    "collapsed": false,
    "pycharm": {
     "name": "#%%\n"
    }
   },
   "execution_count": 11,
   "outputs": []
  },
  {
   "cell_type": "code",
   "execution_count": 12,
   "outputs": [
    {
     "data": {
      "text/plain": "        category                                           headline  \\\n0          CRIME  There Were 2 Mass Shootings In Texas Last Week...   \n1  ENTERTAINMENT  Will Smith Joins Diplo And Nicky Jam For The 2...   \n2  ENTERTAINMENT    Hugh Grant Marries For The First Time At Age 57   \n3  ENTERTAINMENT  Jim Carrey Blasts 'Castrato' Adam Schiff And D...   \n4  ENTERTAINMENT  Julianna Margulies Uses Donald Trump Poop Bags...   \n\n                                   short_description  \\\n0  She left her husband. He killed their children...   \n1                           Of course it has a song.   \n2  The actor and his longtime girlfriend Anna Ebe...   \n3  The actor gives Dems an ass-kicking for not fi...   \n4  The \"Dietland\" actress said using the bags is ...   \n\n                                                text  \\\n0  There Were 2 Mass Shootings In Texas Last Week...   \n1  Will Smith Joins Diplo And Nicky Jam For The 2...   \n2  Hugh Grant Marries For The First Time At Age 5...   \n3  Jim Carrey Blasts 'Castrato' Adam Schiff And D...   \n4  Julianna Margulies Uses Donald Trump Poop Bags...   \n\n                                          clean_text  \n0  mass shootings texas last week left husband ki...  \n1  smith joins diplo nicky jam world cups officia...  \n2  hugh grant marries first time age actor longti...  \n3  jim carrey blasts castrato adam schiff democra...  \n4  julianna margulies uses donald trump poop bags...  ",
      "text/html": "<div>\n<style scoped>\n    .dataframe tbody tr th:only-of-type {\n        vertical-align: middle;\n    }\n\n    .dataframe tbody tr th {\n        vertical-align: top;\n    }\n\n    .dataframe thead th {\n        text-align: right;\n    }\n</style>\n<table border=\"1\" class=\"dataframe\">\n  <thead>\n    <tr style=\"text-align: right;\">\n      <th></th>\n      <th>category</th>\n      <th>headline</th>\n      <th>short_description</th>\n      <th>text</th>\n      <th>clean_text</th>\n    </tr>\n  </thead>\n  <tbody>\n    <tr>\n      <th>0</th>\n      <td>CRIME</td>\n      <td>There Were 2 Mass Shootings In Texas Last Week...</td>\n      <td>She left her husband. He killed their children...</td>\n      <td>There Were 2 Mass Shootings In Texas Last Week...</td>\n      <td>mass shootings texas last week left husband ki...</td>\n    </tr>\n    <tr>\n      <th>1</th>\n      <td>ENTERTAINMENT</td>\n      <td>Will Smith Joins Diplo And Nicky Jam For The 2...</td>\n      <td>Of course it has a song.</td>\n      <td>Will Smith Joins Diplo And Nicky Jam For The 2...</td>\n      <td>smith joins diplo nicky jam world cups officia...</td>\n    </tr>\n    <tr>\n      <th>2</th>\n      <td>ENTERTAINMENT</td>\n      <td>Hugh Grant Marries For The First Time At Age 57</td>\n      <td>The actor and his longtime girlfriend Anna Ebe...</td>\n      <td>Hugh Grant Marries For The First Time At Age 5...</td>\n      <td>hugh grant marries first time age actor longti...</td>\n    </tr>\n    <tr>\n      <th>3</th>\n      <td>ENTERTAINMENT</td>\n      <td>Jim Carrey Blasts 'Castrato' Adam Schiff And D...</td>\n      <td>The actor gives Dems an ass-kicking for not fi...</td>\n      <td>Jim Carrey Blasts 'Castrato' Adam Schiff And D...</td>\n      <td>jim carrey blasts castrato adam schiff democra...</td>\n    </tr>\n    <tr>\n      <th>4</th>\n      <td>ENTERTAINMENT</td>\n      <td>Julianna Margulies Uses Donald Trump Poop Bags...</td>\n      <td>The \"Dietland\" actress said using the bags is ...</td>\n      <td>Julianna Margulies Uses Donald Trump Poop Bags...</td>\n      <td>julianna margulies uses donald trump poop bags...</td>\n    </tr>\n  </tbody>\n</table>\n</div>"
     },
     "execution_count": 12,
     "metadata": {},
     "output_type": "execute_result"
    }
   ],
   "source": [
    "df['clean_text'] = df.text.apply(cleanText)\n",
    "df.head()"
   ],
   "metadata": {
    "collapsed": false,
    "pycharm": {
     "name": "#%%\n"
    }
   }
  },
  {
   "cell_type": "markdown",
   "source": [
    "<h3>Combine similar categories</h3>"
   ],
   "metadata": {
    "collapsed": false,
    "pycharm": {
     "name": "#%% md\n"
    }
   }
  },
  {
   "cell_type": "code",
   "execution_count": 12,
   "outputs": [],
   "source": [
    "df.category[df.category=='THE WORLDPOST'] = 'WORLDPOST'\n",
    "df.category[df.category=='GREEN'] = 'ENVIRONMENT'\n",
    "df.category[df.category=='CULTURE & ARTS'] = 'ARTS'\n",
    "df.category[df.category=='COMEDY'] = 'ENTERTAINMENT'\n",
    "df.category[df.category=='STYLE'] = 'STYLE & BEAUTY'\n",
    "df.category[df.category=='ARTS & CULTURE'] = 'ARTS'\n",
    "df.category[df.category=='COLLEGE'] = 'EDUCATION'\n",
    "df.category[df.category=='SCIENCE'] = 'TECH'\n",
    "df.category[df.category=='WEDDINGS'] = 'GOOD NEWS'\n",
    "df.category[df.category=='TASTE'] = 'FOOD & DRINK'\n",
    "df.category[(df.category=='PARENTING') | (df.category=='FIFTY')] = 'PARENTS'\n",
    "df.category[df.category=='WORLD NEWS'] = 'WORLDPOST'"
   ],
   "metadata": {
    "collapsed": false,
    "pycharm": {
     "name": "#%%\n"
    }
   }
  },
  {
   "cell_type": "code",
   "execution_count": 16,
   "outputs": [
    {
     "data": {
      "text/plain": "(array([ 0,  1,  2,  3,  4,  5,  6,  7,  8,  9, 10, 11, 12, 13, 14, 15, 16,\n        17, 18, 19, 20, 21, 22, 23, 24, 25, 26, 27]),\n [Text(0, 0, 'POLITICS'),\n  Text(1, 0, 'ENTERTAINMENT'),\n  Text(2, 0, 'WELLNESS'),\n  Text(3, 0, 'PARENTS'),\n  Text(4, 0, 'STYLE & BEAUTY'),\n  Text(5, 0, 'TRAVEL'),\n  Text(6, 0, 'WORLDPOST'),\n  Text(7, 0, 'FOOD & DRINK'),\n  Text(8, 0, 'HEALTHY LIVING'),\n  Text(9, 0, 'QUEER VOICES'),\n  Text(10, 0, 'BUSINESS'),\n  Text(11, 0, 'GOOD NEWS'),\n  Text(12, 0, 'SPORTS'),\n  Text(13, 0, 'BLACK VOICES'),\n  Text(14, 0, 'TECH'),\n  Text(15, 0, 'HOME & LIVING'),\n  Text(16, 0, 'ENVIRONMENT'),\n  Text(17, 0, 'ARTS'),\n  Text(18, 0, 'WOMEN'),\n  Text(19, 0, 'IMPACT'),\n  Text(20, 0, 'DIVORCE'),\n  Text(21, 0, 'CRIME'),\n  Text(22, 0, 'MEDIA'),\n  Text(23, 0, 'WEIRD NEWS'),\n  Text(24, 0, 'RELIGION'),\n  Text(25, 0, 'EDUCATION'),\n  Text(26, 0, 'MONEY'),\n  Text(27, 0, 'LATINO VOICES')])"
     },
     "execution_count": 16,
     "metadata": {},
     "output_type": "execute_result"
    },
    {
     "data": {
      "text/plain": "<Figure size 1008x576 with 1 Axes>",
      "image/png": "[encoded data removed]"
     },
     "metadata": {
      "needs_background": "light"
     },
     "output_type": "display_data"
    }
   ],
   "source": [
    "plt.figure(figsize=(14,8))\n",
    "count = df.category.value_counts()\n",
    "sns.barplot(x=count.index, y=count)\n",
    "plt.xlabel('Category')\n",
    "plt.ylabel('Count')\n",
    "plt.xticks(rotation=90)"
   ],
   "metadata": {
    "collapsed": false,
    "pycharm": {
     "name": "#%%\n"
    }
   }
  },
  {
   "cell_type": "code",
   "execution_count": 17,
   "outputs": [
    {
     "data": {
      "text/plain": "        category                                           headline  \\\n0          CRIME  There Were 2 Mass Shootings In Texas Last Week...   \n1  ENTERTAINMENT  Will Smith Joins Diplo And Nicky Jam For The 2...   \n2  ENTERTAINMENT    Hugh Grant Marries For The First Time At Age 57   \n3  ENTERTAINMENT  Jim Carrey Blasts 'Castrato' Adam Schiff And D...   \n4  ENTERTAINMENT  Julianna Margulies Uses Donald Trump Poop Bags...   \n\n                                   short_description  \\\n0  She left her husband. He killed their children...   \n1                           Of course it has a song.   \n2  The actor and his longtime girlfriend Anna Ebe...   \n3  The actor gives Dems an ass-kicking for not fi...   \n4  The \"Dietland\" actress said using the bags is ...   \n\n                                                text  \n0  There Were 2 Mass Shootings In Texas Last Week...  \n1  Will Smith Joins Diplo And Nicky Jam For The 2...  \n2  Hugh Grant Marries For The First Time At Age 5...  \n3  Jim Carrey Blasts 'Castrato' Adam Schiff And D...  \n4  Julianna Margulies Uses Donald Trump Poop Bags...  ",
      "text/html": "<div>\n<style scoped>\n    .dataframe tbody tr th:only-of-type {\n        vertical-align: middle;\n    }\n\n    .dataframe tbody tr th {\n        vertical-align: top;\n    }\n\n    .dataframe thead th {\n        text-align: right;\n    }\n</style>\n<table border=\"1\" class=\"dataframe\">\n  <thead>\n    <tr style=\"text-align: right;\">\n      <th></th>\n      <th>category</th>\n      <th>headline</th>\n      <th>short_description</th>\n      <th>text</th>\n    </tr>\n  </thead>\n  <tbody>\n    <tr>\n      <th>0</th>\n      <td>CRIME</td>\n      <td>There Were 2 Mass Shootings In Texas Last Week...</td>\n      <td>She left her husband. He killed their children...</td>\n      <td>There Were 2 Mass Shootings In Texas Last Week...</td>\n    </tr>\n    <tr>\n      <th>1</th>\n      <td>ENTERTAINMENT</td>\n      <td>Will Smith Joins Diplo And Nicky Jam For The 2...</td>\n      <td>Of course it has a song.</td>\n      <td>Will Smith Joins Diplo And Nicky Jam For The 2...</td>\n    </tr>\n    <tr>\n      <th>2</th>\n      <td>ENTERTAINMENT</td>\n      <td>Hugh Grant Marries For The First Time At Age 57</td>\n      <td>The actor and his longtime girlfriend Anna Ebe...</td>\n      <td>Hugh Grant Marries For The First Time At Age 5...</td>\n    </tr>\n    <tr>\n      <th>3</th>\n      <td>ENTERTAINMENT</td>\n      <td>Jim Carrey Blasts 'Castrato' Adam Schiff And D...</td>\n      <td>The actor gives Dems an ass-kicking for not fi...</td>\n      <td>Jim Carrey Blasts 'Castrato' Adam Schiff And D...</td>\n    </tr>\n    <tr>\n      <th>4</th>\n      <td>ENTERTAINMENT</td>\n      <td>Julianna Margulies Uses Donald Trump Poop Bags...</td>\n      <td>The \"Dietland\" actress said using the bags is ...</td>\n      <td>Julianna Margulies Uses Donald Trump Poop Bags...</td>\n    </tr>\n  </tbody>\n</table>\n</div>"
     },
     "execution_count": 17,
     "metadata": {},
     "output_type": "execute_result"
    }
   ],
   "source": [
    "df.head()"
   ],
   "metadata": {
    "collapsed": false,
    "pycharm": {
     "name": "#%%\n"
    }
   }
  },
  {
   "cell_type": "markdown",
   "source": [
    "<h3>Creating TF-IDF Vectorizer</h3>"
   ],
   "metadata": {
    "collapsed": false,
    "pycharm": {
     "name": "#%% md\n"
    }
   }
  },
  {
   "cell_type": "code",
   "execution_count": 15,
   "outputs": [],
   "source": [
    "tfidf = TfidfVectorizer(analyzer='word')\n",
    "X = tfidf.fit_transform(df['clean_text'])"
   ],
   "metadata": {
    "collapsed": false,
    "pycharm": {
     "name": "#%%\n"
    }
   }
  },
  {
   "cell_type": "code",
   "execution_count": 16,
   "outputs": [],
   "source": [
    "Y = df['category']"
   ],
   "metadata": {
    "collapsed": false,
    "pycharm": {
     "name": "#%%\n"
    }
   }
  },
  {
   "cell_type": "markdown",
   "source": [
    "<h3>Train test split</h3>"
   ],
   "metadata": {
    "collapsed": false
   }
  },
  {
   "cell_type": "code",
   "execution_count": 17,
   "outputs": [],
   "source": [
    "X_train, X_test, y_train, y_test = train_test_split(X, Y, test_size=0.2, random_state=42, stratify=Y)"
   ],
   "metadata": {
    "collapsed": false,
    "pycharm": {
     "name": "#%%\n"
    }
   }
  },
  {
   "cell_type": "markdown",
   "source": [
    "<h3>Training model with naive_bayes classifier</h3>"
   ],
   "metadata": {
    "collapsed": false,
    "pycharm": {
     "name": "#%% md\n"
    }
   }
  },
  {
   "cell_type": "code",
   "execution_count": 18,
   "outputs": [
    {
     "data": {
      "text/plain": "MultinomialNB()"
     },
     "execution_count": 18,
     "metadata": {},
     "output_type": "execute_result"
    }
   ],
   "source": [
    "nb = MultinomialNB()\n",
    "nb.fit(X_train, y_train)"
   ],
   "metadata": {
    "collapsed": false,
    "pycharm": {
     "name": "#%%\n"
    }
   }
  },
  {
   "cell_type": "markdown",
   "source": [
    "<h3>Test & Train Accuracy</h3>"
   ],
   "metadata": {
    "collapsed": false
   }
  },
  {
   "cell_type": "code",
   "execution_count": 19,
   "outputs": [
    {
     "name": "stdout",
     "output_type": "stream",
     "text": [
      "Train Accuracy : 48.34%\n",
      "Test Accuracy  : 44.83%\n"
     ]
    }
   ],
   "source": [
    "Acc_train = nb.score(X_train, y_train)\n",
    "acc_test = nb.score(X_test, y_test)\n",
    "print('Train Accuracy : {:.2f}%'.format(Acc_train*100))\n",
    "print('Test Accuracy  : {:.2f}%'.format(acc_test*100))"
   ],
   "metadata": {
    "collapsed": false,
    "pycharm": {
     "name": "#%%\n"
    }
   }
  },
  {
   "cell_type": "markdown",
   "source": [
    "<h3>Training model with logistic regression</h3>"
   ],
   "metadata": {
    "collapsed": false
   }
  },
  {
   "cell_type": "code",
   "execution_count": 20,
   "outputs": [
    {
     "data": {
      "text/plain": "LogisticRegression(solver='saga')"
     },
     "execution_count": 20,
     "metadata": {},
     "output_type": "execute_result"
    }
   ],
   "source": [
    "lr = LogisticRegression(solver='saga')\n",
    "lr.fit(X_train, y_train)"
   ],
   "metadata": {
    "collapsed": false,
    "pycharm": {
     "name": "#%%\n"
    }
   }
  },
  {
   "cell_type": "markdown",
   "source": [
    "<h3>Test & Train Accuracy</h3>"
   ],
   "metadata": {
    "collapsed": false
   }
  },
  {
   "cell_type": "code",
   "execution_count": 21,
   "outputs": [
    {
     "name": "stdout",
     "output_type": "stream",
     "text": [
      "Train Accuracy : 69.57%\n",
      "Test Accuracy  : 60.99%\n"
     ]
    }
   ],
   "source": [
    "Acc_train = lr.score(X_train, y_train)\n",
    "acc_test = lr.score(X_test, y_test)\n",
    "print('Train Accuracy : {:.2f}%'.format(Acc_train*100))\n",
    "print('Test Accuracy  : {:.2f}%'.format(acc_test*100))"
   ],
   "metadata": {
    "collapsed": false,
    "pycharm": {
     "name": "#%%\n"
    }
   }
  },
  {
   "cell_type": "markdown",
   "source": [
    "<h3>Training model with SGD Classifier</h3>"
   ],
   "metadata": {
    "collapsed": false
   }
  },
  {
   "cell_type": "code",
   "execution_count": 22,
   "outputs": [
    {
     "data": {
      "text/plain": "SGDClassifier()"
     },
     "execution_count": 22,
     "metadata": {},
     "output_type": "execute_result"
    }
   ],
   "source": [
    "sgd = SGDClassifier()\n",
    "sgd.fit(X_train, y_train)"
   ],
   "metadata": {
    "collapsed": false,
    "pycharm": {
     "name": "#%%\n"
    }
   }
  },
  {
   "cell_type": "markdown",
   "source": [
    "<h3>Test & Train Accuracy</h3>"
   ],
   "metadata": {
    "collapsed": false
   }
  },
  {
   "cell_type": "code",
   "execution_count": 23,
   "outputs": [
    {
     "name": "stdout",
     "output_type": "stream",
     "text": [
      "Train Accuracy : 65.21%\n",
      "Test Accuracy  : 57.40%\n"
     ]
    }
   ],
   "source": [
    "Acc_train = sgd.score(X_train, y_train)\n",
    "acc_test = sgd.score(X_test, y_test)\n",
    "print('Train Accuracy : {:.2f}%'.format(Acc_train*100))\n",
    "print('Test Accuracy  : {:.2f}%'.format(acc_test*100))"
   ],
   "metadata": {
    "collapsed": false,
    "pycharm": {
     "name": "#%%\n"
    }
   }
  },
  {
   "cell_type": "markdown",
   "source": [
    "<h3>Training model with Linear SVC</h3>"
   ],
   "metadata": {
    "collapsed": false,
    "pycharm": {
     "name": "#%% md\n"
    }
   }
  },
  {
   "cell_type": "code",
   "execution_count": 24,
   "outputs": [
    {
     "data": {
      "text/plain": "LinearSVC()"
     },
     "execution_count": 24,
     "metadata": {},
     "output_type": "execute_result"
    }
   ],
   "source": [
    "svc = LinearSVC()\n",
    "svc.fit(X_train, y_train)"
   ],
   "metadata": {
    "collapsed": false,
    "pycharm": {
     "name": "#%%\n"
    }
   }
  },
  {
   "cell_type": "markdown",
   "source": [
    "<h3>Test & Train Accuracy</h3>"
   ],
   "metadata": {
    "collapsed": false
   }
  },
  {
   "cell_type": "code",
   "execution_count": 25,
   "outputs": [
    {
     "name": "stdout",
     "output_type": "stream",
     "text": [
      "Train Accuracy : 85.34%\n",
      "Test Accuracy  : 61.46%\n"
     ]
    }
   ],
   "source": [
    "Acc_train = svc.score(X_train, y_train)\n",
    "acc_test = svc.score(X_test, y_test)\n",
    "print('Train Accuracy : {:.2f}%'.format(Acc_train*100))\n",
    "print('Test Accuracy  : {:.2f}%'.format(acc_test*100))"
   ],
   "metadata": {
    "collapsed": false,
    "pycharm": {
     "name": "#%%\n"
    }
   }
  },
  {
   "cell_type": "markdown",
   "source": [
    "<h2>Classification Reports</h2>"
   ],
   "metadata": {
    "collapsed": false
   }
  },
  {
   "cell_type": "markdown",
   "source": [
    "<h3>Naive_bayes</h3>"
   ],
   "metadata": {
    "collapsed": false
   }
  },
  {
   "cell_type": "code",
   "execution_count": 26,
   "outputs": [
    {
     "name": "stderr",
     "output_type": "stream",
     "text": [
      "e:\\work\\ju_project\\venv\\lib\\site-packages\\sklearn\\metrics\\_classification.py:1308: UndefinedMetricWarning: Precision and F-score are ill-defined and being set to 0.0 in labels with no predicted samples. Use `zero_division` parameter to control this behavior.\n",
      "  _warn_prf(average, modifier, msg_start, len(result))\n"
     ]
    },
    {
     "name": "stdout",
     "output_type": "stream",
     "text": [
      "                precision    recall  f1-score   support\n",
      "\n",
      "          ARTS       1.00      0.01      0.02       775\n",
      "  BLACK VOICES       0.00      0.00      0.00       906\n",
      "      BUSINESS       0.50      0.01      0.01      1187\n",
      "         CRIME       0.80      0.01      0.01       681\n",
      "       DIVORCE       1.00      0.03      0.06       685\n",
      "     EDUCATION       0.00      0.00      0.00       429\n",
      " ENTERTAINMENT       0.47      0.62      0.54      4247\n",
      "   ENVIRONMENT       0.67      0.00      0.01       789\n",
      "  FOOD & DRINK       0.87      0.57      0.69      1664\n",
      "     GOOD NEWS       0.95      0.15      0.26      1010\n",
      "HEALTHY LIVING       1.00      0.00      0.00      1339\n",
      " HOME & LIVING       0.96      0.16      0.28       839\n",
      "        IMPACT       0.00      0.00      0.00       692\n",
      " LATINO VOICES       0.00      0.00      0.00       226\n",
      "         MEDIA       0.00      0.00      0.00       563\n",
      "         MONEY       0.00      0.00      0.00       341\n",
      "       PARENTS       0.57      0.56      0.57      2807\n",
      "      POLITICS       0.33      0.98      0.50      6548\n",
      "  QUEER VOICES       0.95      0.06      0.11      1263\n",
      "      RELIGION       0.00      0.00      0.00       511\n",
      "        SPORTS       0.96      0.07      0.13       977\n",
      "STYLE & BEAUTY       0.79      0.66      0.72      2381\n",
      "          TECH       0.96      0.03      0.05       852\n",
      "        TRAVEL       0.79      0.51      0.62      1977\n",
      "    WEIRD NEWS       0.00      0.00      0.00       534\n",
      "      WELLNESS       0.42      0.88      0.57      3565\n",
      "         WOMEN       1.00      0.01      0.02       698\n",
      "     WORLDPOST       0.91      0.13      0.23      1684\n",
      "\n",
      "      accuracy                           0.45     40170\n",
      "     macro avg       0.57      0.19      0.19     40170\n",
      "  weighted avg       0.59      0.45      0.36     40170\n",
      "\n"
     ]
    },
    {
     "name": "stderr",
     "output_type": "stream",
     "text": [
      "e:\\work\\ju_project\\venv\\lib\\site-packages\\sklearn\\metrics\\_classification.py:1308: UndefinedMetricWarning: Precision and F-score are ill-defined and being set to 0.0 in labels with no predicted samples. Use `zero_division` parameter to control this behavior.\n",
      "  _warn_prf(average, modifier, msg_start, len(result))\n",
      "e:\\work\\ju_project\\venv\\lib\\site-packages\\sklearn\\metrics\\_classification.py:1308: UndefinedMetricWarning: Precision and F-score are ill-defined and being set to 0.0 in labels with no predicted samples. Use `zero_division` parameter to control this behavior.\n",
      "  _warn_prf(average, modifier, msg_start, len(result))\n"
     ]
    }
   ],
   "source": [
    "y_pred = nb.predict(X_test)\n",
    "print(classification_report(y_test, y_pred))"
   ],
   "metadata": {
    "collapsed": false,
    "pycharm": {
     "name": "#%%\n"
    }
   }
  },
  {
   "cell_type": "markdown",
   "source": [
    "<h3>Logistic Regression</h3>"
   ],
   "metadata": {
    "collapsed": false
   }
  },
  {
   "cell_type": "code",
   "execution_count": 27,
   "outputs": [
    {
     "name": "stdout",
     "output_type": "stream",
     "text": [
      "                precision    recall  f1-score   support\n",
      "\n",
      "          ARTS       0.63      0.33      0.43       775\n",
      "  BLACK VOICES       0.59      0.32      0.41       906\n",
      "      BUSINESS       0.55      0.39      0.45      1187\n",
      "         CRIME       0.64      0.36      0.46       681\n",
      "       DIVORCE       0.87      0.64      0.74       685\n",
      "     EDUCATION       0.54      0.27      0.36       429\n",
      " ENTERTAINMENT       0.39      0.81      0.53      4247\n",
      "   ENVIRONMENT       0.56      0.35      0.43       789\n",
      "  FOOD & DRINK       0.76      0.79      0.78      1664\n",
      "     GOOD NEWS       0.77      0.55      0.64      1010\n",
      "HEALTHY LIVING       0.44      0.08      0.14      1339\n",
      " HOME & LIVING       0.80      0.72      0.75       839\n",
      "        IMPACT       0.51      0.21      0.30       692\n",
      " LATINO VOICES       0.84      0.16      0.27       226\n",
      "         MEDIA       0.59      0.23      0.33       563\n",
      "         MONEY       0.67      0.34      0.45       341\n",
      "       PARENTS       0.63      0.69      0.66      2807\n",
      "      POLITICS       0.69      0.77      0.73      6548\n",
      "  QUEER VOICES       0.82      0.56      0.66      1263\n",
      "      RELIGION       0.63      0.23      0.34       511\n",
      "        SPORTS       0.75      0.55      0.64       977\n",
      "STYLE & BEAUTY       0.80      0.77      0.78      2381\n",
      "          TECH       0.62      0.40      0.49       852\n",
      "        TRAVEL       0.73      0.74      0.73      1977\n",
      "    WEIRD NEWS       0.57      0.13      0.21       534\n",
      "      WELLNESS       0.56      0.82      0.67      3565\n",
      "         WOMEN       0.42      0.19      0.26       698\n",
      "     WORLDPOST       0.69      0.56      0.62      1684\n",
      "\n",
      "      accuracy                           0.61     40170\n",
      "     macro avg       0.64      0.46      0.51     40170\n",
      "  weighted avg       0.63      0.61      0.59     40170\n",
      "\n"
     ]
    }
   ],
   "source": [
    "y_pred = lr.predict(X_test)\n",
    "print(classification_report(y_test, y_pred))"
   ],
   "metadata": {
    "collapsed": false,
    "pycharm": {
     "name": "#%%\n"
    }
   }
  },
  {
   "cell_type": "markdown",
   "source": [
    "<h3>SGD Classifier</h3>"
   ],
   "metadata": {
    "collapsed": false
   }
  },
  {
   "cell_type": "code",
   "execution_count": 28,
   "outputs": [
    {
     "name": "stdout",
     "output_type": "stream",
     "text": [
      "                precision    recall  f1-score   support\n",
      "\n",
      "          ARTS       0.64      0.28      0.39       775\n",
      "  BLACK VOICES       0.55      0.22      0.32       906\n",
      "      BUSINESS       0.59      0.27      0.37      1187\n",
      "         CRIME       0.62      0.29      0.39       681\n",
      "       DIVORCE       0.79      0.66      0.72       685\n",
      "     EDUCATION       0.56      0.22      0.32       429\n",
      " ENTERTAINMENT       0.61      0.58      0.60      4247\n",
      "   ENVIRONMENT       0.54      0.25      0.34       789\n",
      "  FOOD & DRINK       0.69      0.82      0.75      1664\n",
      "     GOOD NEWS       0.70      0.58      0.63      1010\n",
      "HEALTHY LIVING       0.26      0.03      0.06      1339\n",
      " HOME & LIVING       0.71      0.70      0.71       839\n",
      "        IMPACT       0.48      0.13      0.20       692\n",
      " LATINO VOICES       0.64      0.16      0.26       226\n",
      "         MEDIA       0.59      0.17      0.26       563\n",
      "         MONEY       0.59      0.25      0.35       341\n",
      "       PARENTS       0.60      0.70      0.65      2807\n",
      "      POLITICS       0.64      0.80      0.71      6548\n",
      "  QUEER VOICES       0.71      0.62      0.66      1263\n",
      "      RELIGION       0.06      0.49      0.11       511\n",
      "        SPORTS       0.73      0.56      0.63       977\n",
      "STYLE & BEAUTY       0.70      0.77      0.73      2381\n",
      "          TECH       0.63      0.34      0.44       852\n",
      "        TRAVEL       0.67      0.72      0.70      1977\n",
      "    WEIRD NEWS       0.32      0.07      0.12       534\n",
      "      WELLNESS       0.57      0.78      0.66      3565\n",
      "         WOMEN       0.43      0.10      0.16       698\n",
      "     WORLDPOST       0.64      0.48      0.55      1684\n",
      "\n",
      "      accuracy                           0.57     40170\n",
      "     macro avg       0.58      0.43      0.46     40170\n",
      "  weighted avg       0.61      0.57      0.56     40170\n",
      "\n"
     ]
    }
   ],
   "source": [
    "y_pred = sgd.predict(X_test)\n",
    "print(classification_report(y_test, y_pred))"
   ],
   "metadata": {
    "collapsed": false,
    "pycharm": {
     "name": "#%%\n"
    }
   }
  },
  {
   "cell_type": "markdown",
   "source": [
    "<h3>Linear SVC</h3>"
   ],
   "metadata": {
    "collapsed": false,
    "pycharm": {
     "name": "#%% md\n"
    }
   }
  },
  {
   "cell_type": "code",
   "execution_count": 29,
   "outputs": [
    {
     "name": "stdout",
     "output_type": "stream",
     "text": [
      "                precision    recall  f1-score   support\n",
      "\n",
      "          ARTS       0.58      0.39      0.47       775\n",
      "  BLACK VOICES       0.53      0.39      0.45       906\n",
      "      BUSINESS       0.51      0.39      0.45      1187\n",
      "         CRIME       0.58      0.40      0.48       681\n",
      "       DIVORCE       0.81      0.70      0.75       685\n",
      "     EDUCATION       0.50      0.34      0.41       429\n",
      " ENTERTAINMENT       0.41      0.76      0.53      4247\n",
      "   ENVIRONMENT       0.53      0.41      0.46       789\n",
      "  FOOD & DRINK       0.74      0.80      0.77      1664\n",
      "     GOOD NEWS       0.71      0.58      0.64      1010\n",
      "HEALTHY LIVING       0.31      0.13      0.18      1339\n",
      " HOME & LIVING       0.76      0.76      0.76       839\n",
      "        IMPACT       0.43      0.25      0.31       692\n",
      " LATINO VOICES       0.68      0.35      0.47       226\n",
      "         MEDIA       0.56      0.32      0.41       563\n",
      "         MONEY       0.58      0.43      0.49       341\n",
      "       PARENTS       0.63      0.66      0.65      2807\n",
      "      POLITICS       0.73      0.73      0.73      6548\n",
      "  QUEER VOICES       0.77      0.61      0.68      1263\n",
      "      RELIGION       0.57      0.29      0.39       511\n",
      "        SPORTS       0.73      0.63      0.68       977\n",
      "STYLE & BEAUTY       0.81      0.78      0.79      2381\n",
      "          TECH       0.57      0.43      0.49       852\n",
      "        TRAVEL       0.73      0.73      0.73      1977\n",
      "    WEIRD NEWS       0.42      0.23      0.30       534\n",
      "      WELLNESS       0.61      0.75      0.67      3565\n",
      "         WOMEN       0.42      0.23      0.30       698\n",
      "     WORLDPOST       0.66      0.57      0.61      1684\n",
      "\n",
      "      accuracy                           0.61     40170\n",
      "     macro avg       0.60      0.50      0.54     40170\n",
      "  weighted avg       0.62      0.61      0.61     40170\n",
      "\n"
     ]
    }
   ],
   "source": [
    "y_pred = svc.predict(X_test)\n",
    "print(classification_report(y_test, y_pred))\n"
   ],
   "metadata": {
    "collapsed": false,
    "pycharm": {
     "name": "#%%\n"
    }
   }
  }
 ],
 "metadata": {
  "kernelspec": {
   "display_name": "Python 3",
   "language": "python",
   "name": "python3"
  },
  "language_info": {
   "codemirror_mode": {
    "name": "ipython",
    "version": 2
   },
   "file_extension": ".py",
   "mimetype": "text/x-python",
   "name": "python",
   "nbconvert_exporter": "python",
   "pygments_lexer": "ipython2",
   "version": "2.7.6"
  }
 },
 "nbformat": 4,
 "nbformat_minor": 0
}